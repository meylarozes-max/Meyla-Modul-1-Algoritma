{
  "nbformat": 4,
  "nbformat_minor": 0,
  "metadata": {
    "colab": {
      "provenance": [],
      "authorship_tag": "ABX9TyPLcizFHNCjc8r3sc8Kk4OV",
      "include_colab_link": true
    },
    "kernelspec": {
      "name": "python3",
      "display_name": "Python 3"
    },
    "language_info": {
      "name": "python"
    }
  },
  "cells": [
    {
      "cell_type": "markdown",
      "metadata": {
        "id": "view-in-github",
        "colab_type": "text"
      },
      "source": [
        "<a href=\"https://colab.research.google.com/github/meylarozes-max/Meyla-Modul-1-Algoritma/blob/main/Meyla_Rozes_Modul_4.ipynb\" target=\"_parent\"><img src=\"https://colab.research.google.com/assets/colab-badge.svg\" alt=\"Open In Colab\"/></a>"
      ]
    },
    {
      "cell_type": "markdown",
      "source": [],
      "metadata": {
        "id": "4bIJIGJp8hc4"
      }
    },
    {
      "cell_type": "code",
      "source": [
        "def simulasi_gerak_lurus():\n",
        "    print(\"Simulasi Gerak Lurus Berubah Beraturan (GLBB) dengan Energi\")\n",
        "\n",
        "    # Input data (bisa langsung diisi sesuai Kasus 1)\n",
        "    s0 = float(input(\"Masukkan posisi awal (m): \"))     # contoh: 10\n",
        "    v0 = float(input(\"Masukkan kecepatan awal (m/s): \"))# contoh: 0\n",
        "    a = float(input(\"Masukkan percepatan (m/s^2): \"))   # contoh: 3\n",
        "    m = float(input(\"Masukkan massa benda (kg): \"))     # contoh: 2\n",
        "    g = 9.8                                             # gravitasi\n",
        "    t_total = int(input(\"Masukkan total waktu simulasi (detik): \"))  # contoh: 5\n",
        "    dt = float(input(\"Masukkan interval waktu (detik): \"))           # contoh: 1\n",
        "\n",
        "    print(\"\\n{:<8}{:<12}{:<15}{:<12}{:<12}\".format(\n",
        "        \"t(s)\", \"Posisi (m)\", \"Kecepatan (m/s)\", \"E_k (J)\", \"E_p (J)\"))\n",
        "    print(\"-\"*60)\n",
        "\n",
        "    t = 0\n",
        "    while t <= t_total:\n",
        "        s = s0 + v0 * t + 0.5 * a * t**2       # posisi\n",
        "        v = v0 + a * t                         # kecepatan\n",
        "        E_k = 0.5 * m * v**2                   # energi kinetik\n",
        "        E_p = m * g * s                        # energi potensial\n",
        "        print(f\"{t:<8.1f}{s:<12.2f}{v:<15.2f}{E_k:<12.2f}{E_p:<12.2f}\")\n",
        "        t += dt\n",
        "\n",
        "\n",
        "if __name__ == \"__main__\":\n",
        "    simulasi_gerak_lurus()"
      ],
      "metadata": {
        "colab": {
          "base_uri": "https://localhost:8080/"
        },
        "id": "AIAF6hfy8ijA",
        "outputId": "62fb14da-6d9f-4500-8f56-3ccf5ed49fae"
      },
      "execution_count": null,
      "outputs": [
        {
          "output_type": "stream",
          "name": "stdout",
          "text": [
            "Simulasi Gerak Lurus Berubah Beraturan (GLBB) dengan Energi\n",
            "Masukkan posisi awal (m): 15\n",
            "Masukkan kecepatan awal (m/s): 4\n",
            "Masukkan percepatan (m/s^2): 2\n",
            "Masukkan massa benda (kg): 5\n",
            "Masukkan total waktu simulasi (detik): 8\n",
            "Masukkan interval waktu (detik): 2\n",
            "\n",
            "t(s)    Posisi (m)  Kecepatan (m/s)E_k (J)     E_p (J)     \n",
            "------------------------------------------------------------\n",
            "0.0     15.00       4.00           40.00       735.00      \n",
            "2.0     27.00       8.00           160.00      1323.00     \n",
            "4.0     47.00       12.00          360.00      2303.00     \n",
            "6.0     75.00       16.00          640.00      3675.00     \n",
            "8.0     111.00      20.00          1000.00     5439.00     \n"
          ]
        }
      ]
    }
  ]
}